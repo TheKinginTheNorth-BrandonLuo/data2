{
 "cells": [
  {
   "cell_type": "code",
   "execution_count": 22,
   "metadata": {},
   "outputs": [],
   "source": [
    "import pandas as pd\n",
    "import numpy as np\n",
    "from scipy.sparse import csr_matrix\n",
    "from sklearn.neighbors import NearestNeighbors\n",
    "import matplotlib.pyplot as plt\n",
    "%matplotlib inline"
   ]
  },
  {
   "cell_type": "code",
   "execution_count": 23,
   "metadata": {},
   "outputs": [
    {
     "name": "stdout",
     "output_type": "stream",
     "text": [
      "       movieId                                              title  \\\n",
      "0            1                                   Toy Story (1995)   \n",
      "1            2                                     Jumanji (1995)   \n",
      "2            3                            Grumpier Old Men (1995)   \n",
      "3            4                           Waiting to Exhale (1995)   \n",
      "4            5                 Father of the Bride Part II (1995)   \n",
      "5            6                                        Heat (1995)   \n",
      "6            7                                     Sabrina (1995)   \n",
      "7            8                                Tom and Huck (1995)   \n",
      "8            9                                Sudden Death (1995)   \n",
      "9           10                                   GoldenEye (1995)   \n",
      "10          11                     American President, The (1995)   \n",
      "11          12                 Dracula: Dead and Loving It (1995)   \n",
      "12          13                                       Balto (1995)   \n",
      "13          14                                       Nixon (1995)   \n",
      "14          15                            Cutthroat Island (1995)   \n",
      "15          16                                      Casino (1995)   \n",
      "16          17                       Sense and Sensibility (1995)   \n",
      "17          18                                  Four Rooms (1995)   \n",
      "18          19              Ace Ventura: When Nature Calls (1995)   \n",
      "19          20                                 Money Train (1995)   \n",
      "20          21                                  Get Shorty (1995)   \n",
      "21          22                                     Copycat (1995)   \n",
      "22          23                                   Assassins (1995)   \n",
      "23          24                                      Powder (1995)   \n",
      "24          25                           Leaving Las Vegas (1995)   \n",
      "25          26                                     Othello (1995)   \n",
      "26          27                                Now and Then (1995)   \n",
      "27          28                                  Persuasion (1995)   \n",
      "28          29  City of Lost Children, The (Cité des enfants p...   \n",
      "29          30  Shanghai Triad (Yao a yao yao dao waipo qiao) ...   \n",
      "...        ...                                                ...   \n",
      "27248   131146                      Werner - Volles Rooäää (1999)   \n",
      "27249   131148                                  What A Man (2011)   \n",
      "27250   131150         7 Dwarves: The Forest Is Not Enough (2006)   \n",
      "27251   131152                                 The Fat Spy (1966)   \n",
      "27252   131154  Die Bademeister – Weiber, saufen, Leben retten...   \n",
      "27253   131156                         Ants in the Pants 2 (2002)   \n",
      "27254   131158                                Manta, Manta (1991)   \n",
      "27255   131160                  Oscar and the Lady in Pink (2009)   \n",
      "27256   131162                      Por un puñado de besos (2014)   \n",
      "27257   131164                               Vietnam in HD (2011)   \n",
      "27258   131166                                  WWII IN HD (2009)   \n",
      "27259   131168                                     Phoenix (2014)   \n",
      "27260   131170                                   Parallels (2015)   \n",
      "27261   131172                              Closed Curtain (2013)   \n",
      "27262   131174                                   Gentlemen (2014)   \n",
      "27263   131176                             A Second Chance (2014)   \n",
      "27264   131180                     Dead Rising: Watchtower (2015)   \n",
      "27265   131231                                     Standby (2014)   \n",
      "27266   131237                         What Men Talk About (2010)   \n",
      "27267   131239                          Three Quarter Moon (2011)   \n",
      "27268   131241                           Ants in the Pants (2000)   \n",
      "27269   131243                Werner - Gekotzt wird später (2003)   \n",
      "27270   131248                              Brother Bear 2 (2006)   \n",
      "27271   131250                              No More School (2000)   \n",
      "27272   131252  Forklift Driver Klaus: The First Day on the Jo...   \n",
      "27273   131254                       Kein Bund für's Leben (2007)   \n",
      "27274   131256                      Feuer, Eis & Dosenbier (2002)   \n",
      "27275   131258                                 The Pirates (2014)   \n",
      "27276   131260                                Rentun Ruusu (2001)   \n",
      "27277   131262                                   Innocence (2014)   \n",
      "\n",
      "                                            genres  \n",
      "0      Adventure|Animation|Children|Comedy|Fantasy  \n",
      "1                       Adventure|Children|Fantasy  \n",
      "2                                   Comedy|Romance  \n",
      "3                             Comedy|Drama|Romance  \n",
      "4                                           Comedy  \n",
      "5                            Action|Crime|Thriller  \n",
      "6                                   Comedy|Romance  \n",
      "7                               Adventure|Children  \n",
      "8                                           Action  \n",
      "9                        Action|Adventure|Thriller  \n",
      "10                            Comedy|Drama|Romance  \n",
      "11                                   Comedy|Horror  \n",
      "12                    Adventure|Animation|Children  \n",
      "13                                           Drama  \n",
      "14                        Action|Adventure|Romance  \n",
      "15                                     Crime|Drama  \n",
      "16                                   Drama|Romance  \n",
      "17                                          Comedy  \n",
      "18                                          Comedy  \n",
      "19              Action|Comedy|Crime|Drama|Thriller  \n",
      "20                           Comedy|Crime|Thriller  \n",
      "21             Crime|Drama|Horror|Mystery|Thriller  \n",
      "22                           Action|Crime|Thriller  \n",
      "23                                    Drama|Sci-Fi  \n",
      "24                                   Drama|Romance  \n",
      "25                                           Drama  \n",
      "26                                  Children|Drama  \n",
      "27                                   Drama|Romance  \n",
      "28          Adventure|Drama|Fantasy|Mystery|Sci-Fi  \n",
      "29                                     Crime|Drama  \n",
      "...                                            ...  \n",
      "27248                             Animation|Comedy  \n",
      "27249                               Comedy|Romance  \n",
      "27250                                       Comedy  \n",
      "27251                                       Comedy  \n",
      "27252                                       Comedy  \n",
      "27253                                       Comedy  \n",
      "27254                                       Comedy  \n",
      "27255                                        Drama  \n",
      "27256                                Drama|Romance  \n",
      "27257                                          War  \n",
      "27258                           (no genres listed)  \n",
      "27259                                        Drama  \n",
      "27260                                       Sci-Fi  \n",
      "27261                           (no genres listed)  \n",
      "27262                       Drama|Romance|Thriller  \n",
      "27263                                        Drama  \n",
      "27264                       Action|Horror|Thriller  \n",
      "27265                               Comedy|Romance  \n",
      "27266                                       Comedy  \n",
      "27267                                 Comedy|Drama  \n",
      "27268                               Comedy|Romance  \n",
      "27269                             Animation|Comedy  \n",
      "27270  Adventure|Animation|Children|Comedy|Fantasy  \n",
      "27271                                       Comedy  \n",
      "27272                                Comedy|Horror  \n",
      "27273                                       Comedy  \n",
      "27274                                       Comedy  \n",
      "27275                                    Adventure  \n",
      "27276                           (no genres listed)  \n",
      "27277                     Adventure|Fantasy|Horror  \n",
      "\n",
      "[27278 rows x 3 columns]\n"
     ]
    }
   ],
   "source": [
    "movies = pd.read_csv('movies.csv')\n",
    "ratings = pd.read_csv('ratings.csv')\n",
    "print(movies)"
   ]
  },
  {
   "cell_type": "markdown",
   "metadata": {},
   "source": [
    "## Combine two dataset file"
   ]
  },
  {
   "cell_type": "code",
   "execution_count": 24,
   "metadata": {},
   "outputs": [
    {
     "name": "stdout",
     "output_type": "stream",
     "text": [
      "20000263\n"
     ]
    },
    {
     "data": {
      "text/plain": [
       "Pulp Fiction (1994)                                      67310\n",
       "Forrest Gump (1994)                                      66172\n",
       "Shawshank Redemption, The (1994)                         63366\n",
       "Silence of the Lambs, The (1991)                         63299\n",
       "Jurassic Park (1993)                                     59715\n",
       "Star Wars: Episode IV - A New Hope (1977)                54502\n",
       "Braveheart (1995)                                        53769\n",
       "Terminator 2: Judgment Day (1991)                        52244\n",
       "Matrix, The (1999)                                       51334\n",
       "Schindler's List (1993)                                  50054\n",
       "Toy Story (1995)                                         49695\n",
       "Fugitive, The (1993)                                     49581\n",
       "Apollo 13 (1995)                                         47777\n",
       "Independence Day (a.k.a. ID4) (1996)                     47048\n",
       "Usual Suspects, The (1995)                               47006\n",
       "Star Wars: Episode VI - Return of the Jedi (1983)        46839\n",
       "Batman (1989)                                            46054\n",
       "Star Wars: Episode V - The Empire Strikes Back (1980)    45313\n",
       "American Beauty (1999)                                   44987\n",
       "Twelve Monkeys (a.k.a. 12 Monkeys) (1995)                44980\n",
       "Name: title, dtype: int64"
      ]
     },
     "execution_count": 24,
     "metadata": {},
     "output_type": "execute_result"
    }
   ],
   "source": [
    "combine_movie_rating= pd.merge(ratings,movies,on='movieId')\n",
    "#drop the column 'timestamp' since this method doesn't use this tag\n",
    "combine_movie_rating=combine_movie_rating.drop(['timestamp'],axis = 1)\n",
    "print(len(combine_movie_rating))\n",
    "combine_movie_rating.title.value_counts()[:20]"
   ]
  },
  {
   "cell_type": "markdown",
   "metadata": {},
   "source": [
    "## Find the total rating count of each movie"
   ]
  },
  {
   "cell_type": "code",
   "execution_count": 25,
   "metadata": {},
   "outputs": [
    {
     "data": {
      "text/html": [
       "<div>\n",
       "<style scoped>\n",
       "    .dataframe tbody tr th:only-of-type {\n",
       "        vertical-align: middle;\n",
       "    }\n",
       "\n",
       "    .dataframe tbody tr th {\n",
       "        vertical-align: top;\n",
       "    }\n",
       "\n",
       "    .dataframe thead th {\n",
       "        text-align: right;\n",
       "    }\n",
       "</style>\n",
       "<table border=\"1\" class=\"dataframe\">\n",
       "  <thead>\n",
       "    <tr style=\"text-align: right;\">\n",
       "      <th></th>\n",
       "      <th>movieId</th>\n",
       "      <th>totalRatingCount</th>\n",
       "    </tr>\n",
       "  </thead>\n",
       "  <tbody>\n",
       "    <tr>\n",
       "      <th>0</th>\n",
       "      <td>1</td>\n",
       "      <td>49695</td>\n",
       "    </tr>\n",
       "    <tr>\n",
       "      <th>1</th>\n",
       "      <td>2</td>\n",
       "      <td>22243</td>\n",
       "    </tr>\n",
       "    <tr>\n",
       "      <th>2</th>\n",
       "      <td>3</td>\n",
       "      <td>12735</td>\n",
       "    </tr>\n",
       "    <tr>\n",
       "      <th>3</th>\n",
       "      <td>4</td>\n",
       "      <td>2756</td>\n",
       "    </tr>\n",
       "    <tr>\n",
       "      <th>4</th>\n",
       "      <td>5</td>\n",
       "      <td>12161</td>\n",
       "    </tr>\n",
       "  </tbody>\n",
       "</table>\n",
       "</div>"
      ],
      "text/plain": [
       "   movieId  totalRatingCount\n",
       "0        1             49695\n",
       "1        2             22243\n",
       "2        3             12735\n",
       "3        4              2756\n",
       "4        5             12161"
      ]
     },
     "execution_count": 25,
     "metadata": {},
     "output_type": "execute_result"
    }
   ],
   "source": [
    "movie_rating_count=pd.DataFrame(combine_movie_rating.groupby(['movieId'])['rating'].count().reset_index().rename(columns={'rating':'totalRatingCount'}))\n",
    "movie_rating_count.head()"
   ]
  },
  {
   "cell_type": "markdown",
   "metadata": {},
   "source": [
    "## Give a summary of the rating count "
   ]
  },
  {
   "cell_type": "code",
   "execution_count": 26,
   "metadata": {},
   "outputs": [
    {
     "name": "stdout",
     "output_type": "stream",
     "text": [
      "count   26744.000\n",
      "mean      747.841\n",
      "std      3085.818\n",
      "min         1.000\n",
      "25%         3.000\n",
      "50%        18.000\n",
      "75%       205.000\n",
      "max     67310.000\n",
      "Name: totalRatingCount, dtype: float64\n"
     ]
    }
   ],
   "source": [
    "pd.set_option('display.float_format', lambda x: '%.3f' % x)\n",
    "print(movie_rating_count['totalRatingCount'].describe())"
   ]
  },
  {
   "cell_type": "markdown",
   "metadata": {},
   "source": [
    "## Compress data again,use 10% of rating count to define 'Popular' movies and recommand them"
   ]
  },
  {
   "cell_type": "code",
   "execution_count": 27,
   "metadata": {},
   "outputs": [
    {
     "name": "stdout",
     "output_type": "stream",
     "text": [
      "0.900    1305.700\n",
      "0.910    1543.000\n",
      "0.920    1848.000\n",
      "0.930    2285.980\n",
      "0.940    2847.000\n",
      "0.950    3612.950\n",
      "0.960    4700.560\n",
      "0.970    6219.970\n",
      "0.980    8835.780\n",
      "0.990   14388.690\n",
      "Name: totalRatingCount, dtype: float64\n"
     ]
    }
   ],
   "source": [
    "print(movie_rating_count['totalRatingCount'].quantile(np.arange(.9,1,.01)))"
   ]
  },
  {
   "cell_type": "code",
   "execution_count": 28,
   "metadata": {},
   "outputs": [
    {
     "name": "stdout",
     "output_type": "stream",
     "text": [
      "20000263\n",
      "20000263\n"
     ]
    },
    {
     "data": {
      "text/html": [
       "<div>\n",
       "<style scoped>\n",
       "    .dataframe tbody tr th:only-of-type {\n",
       "        vertical-align: middle;\n",
       "    }\n",
       "\n",
       "    .dataframe tbody tr th {\n",
       "        vertical-align: top;\n",
       "    }\n",
       "\n",
       "    .dataframe thead th {\n",
       "        text-align: right;\n",
       "    }\n",
       "</style>\n",
       "<table border=\"1\" class=\"dataframe\">\n",
       "  <thead>\n",
       "    <tr style=\"text-align: right;\">\n",
       "      <th></th>\n",
       "      <th>userId</th>\n",
       "      <th>movieId</th>\n",
       "      <th>rating</th>\n",
       "      <th>title</th>\n",
       "      <th>genres</th>\n",
       "      <th>totalRatingCount</th>\n",
       "    </tr>\n",
       "  </thead>\n",
       "  <tbody>\n",
       "    <tr>\n",
       "      <th>0</th>\n",
       "      <td>1</td>\n",
       "      <td>2</td>\n",
       "      <td>3.500</td>\n",
       "      <td>Jumanji (1995)</td>\n",
       "      <td>Adventure|Children|Fantasy</td>\n",
       "      <td>22243</td>\n",
       "    </tr>\n",
       "    <tr>\n",
       "      <th>1</th>\n",
       "      <td>5</td>\n",
       "      <td>2</td>\n",
       "      <td>3.000</td>\n",
       "      <td>Jumanji (1995)</td>\n",
       "      <td>Adventure|Children|Fantasy</td>\n",
       "      <td>22243</td>\n",
       "    </tr>\n",
       "    <tr>\n",
       "      <th>2</th>\n",
       "      <td>13</td>\n",
       "      <td>2</td>\n",
       "      <td>3.000</td>\n",
       "      <td>Jumanji (1995)</td>\n",
       "      <td>Adventure|Children|Fantasy</td>\n",
       "      <td>22243</td>\n",
       "    </tr>\n",
       "    <tr>\n",
       "      <th>3</th>\n",
       "      <td>29</td>\n",
       "      <td>2</td>\n",
       "      <td>3.000</td>\n",
       "      <td>Jumanji (1995)</td>\n",
       "      <td>Adventure|Children|Fantasy</td>\n",
       "      <td>22243</td>\n",
       "    </tr>\n",
       "    <tr>\n",
       "      <th>4</th>\n",
       "      <td>34</td>\n",
       "      <td>2</td>\n",
       "      <td>3.000</td>\n",
       "      <td>Jumanji (1995)</td>\n",
       "      <td>Adventure|Children|Fantasy</td>\n",
       "      <td>22243</td>\n",
       "    </tr>\n",
       "  </tbody>\n",
       "</table>\n",
       "</div>"
      ],
      "text/plain": [
       "   userId  movieId  rating           title                      genres  \\\n",
       "0       1        2   3.500  Jumanji (1995)  Adventure|Children|Fantasy   \n",
       "1       5        2   3.000  Jumanji (1995)  Adventure|Children|Fantasy   \n",
       "2      13        2   3.000  Jumanji (1995)  Adventure|Children|Fantasy   \n",
       "3      29        2   3.000  Jumanji (1995)  Adventure|Children|Fantasy   \n",
       "4      34        2   3.000  Jumanji (1995)  Adventure|Children|Fantasy   \n",
       "\n",
       "   totalRatingCount  \n",
       "0             22243  \n",
       "1             22243  \n",
       "2             22243  \n",
       "3             22243  \n",
       "4             22243  "
      ]
     },
     "execution_count": 28,
     "metadata": {},
     "output_type": "execute_result"
    }
   ],
   "source": [
    "rating_with_totalRatingCount = combine_movie_rating.merge(movie_rating_count,left_on='movieId',right_on='movieId')\n",
    "print(len(combine_movie_rating))\n",
    "print(len(rating_with_totalRatingCount))\n",
    "rating_with_totalRatingCount.head()"
   ]
  },
  {
   "cell_type": "markdown",
   "metadata": {},
   "source": [
    "## Select popular movies"
   ]
  },
  {
   "cell_type": "code",
   "execution_count": 29,
   "metadata": {},
   "outputs": [
    {
     "data": {
      "text/html": [
       "<div>\n",
       "<style scoped>\n",
       "    .dataframe tbody tr th:only-of-type {\n",
       "        vertical-align: middle;\n",
       "    }\n",
       "\n",
       "    .dataframe tbody tr th {\n",
       "        vertical-align: top;\n",
       "    }\n",
       "\n",
       "    .dataframe thead th {\n",
       "        text-align: right;\n",
       "    }\n",
       "</style>\n",
       "<table border=\"1\" class=\"dataframe\">\n",
       "  <thead>\n",
       "    <tr style=\"text-align: right;\">\n",
       "      <th></th>\n",
       "      <th>userId</th>\n",
       "      <th>movieId</th>\n",
       "      <th>rating</th>\n",
       "      <th>title</th>\n",
       "      <th>genres</th>\n",
       "      <th>totalRatingCount</th>\n",
       "    </tr>\n",
       "  </thead>\n",
       "  <tbody>\n",
       "    <tr>\n",
       "      <th>0</th>\n",
       "      <td>1</td>\n",
       "      <td>2</td>\n",
       "      <td>3.500</td>\n",
       "      <td>Jumanji (1995)</td>\n",
       "      <td>Adventure|Children|Fantasy</td>\n",
       "      <td>22243</td>\n",
       "    </tr>\n",
       "    <tr>\n",
       "      <th>1</th>\n",
       "      <td>5</td>\n",
       "      <td>2</td>\n",
       "      <td>3.000</td>\n",
       "      <td>Jumanji (1995)</td>\n",
       "      <td>Adventure|Children|Fantasy</td>\n",
       "      <td>22243</td>\n",
       "    </tr>\n",
       "    <tr>\n",
       "      <th>2</th>\n",
       "      <td>13</td>\n",
       "      <td>2</td>\n",
       "      <td>3.000</td>\n",
       "      <td>Jumanji (1995)</td>\n",
       "      <td>Adventure|Children|Fantasy</td>\n",
       "      <td>22243</td>\n",
       "    </tr>\n",
       "    <tr>\n",
       "      <th>3</th>\n",
       "      <td>29</td>\n",
       "      <td>2</td>\n",
       "      <td>3.000</td>\n",
       "      <td>Jumanji (1995)</td>\n",
       "      <td>Adventure|Children|Fantasy</td>\n",
       "      <td>22243</td>\n",
       "    </tr>\n",
       "    <tr>\n",
       "      <th>4</th>\n",
       "      <td>34</td>\n",
       "      <td>2</td>\n",
       "      <td>3.000</td>\n",
       "      <td>Jumanji (1995)</td>\n",
       "      <td>Adventure|Children|Fantasy</td>\n",
       "      <td>22243</td>\n",
       "    </tr>\n",
       "  </tbody>\n",
       "</table>\n",
       "</div>"
      ],
      "text/plain": [
       "   userId  movieId  rating           title                      genres  \\\n",
       "0       1        2   3.500  Jumanji (1995)  Adventure|Children|Fantasy   \n",
       "1       5        2   3.000  Jumanji (1995)  Adventure|Children|Fantasy   \n",
       "2      13        2   3.000  Jumanji (1995)  Adventure|Children|Fantasy   \n",
       "3      29        2   3.000  Jumanji (1995)  Adventure|Children|Fantasy   \n",
       "4      34        2   3.000  Jumanji (1995)  Adventure|Children|Fantasy   \n",
       "\n",
       "   totalRatingCount  \n",
       "0             22243  \n",
       "1             22243  \n",
       "2             22243  \n",
       "3             22243  \n",
       "4             22243  "
      ]
     },
     "execution_count": 29,
     "metadata": {},
     "output_type": "execute_result"
    }
   ],
   "source": [
    "popular_threshold=1305\n",
    "rating_popular_movies= rating_with_totalRatingCount.query('totalRatingCount>=@popular_threshold')\n",
    "rating_popular_movies.head()"
   ]
  },
  {
   "cell_type": "markdown",
   "metadata": {},
   "source": [
    "## Construct a sparse matrix to calculate"
   ]
  },
  {
   "cell_type": "code",
   "execution_count": 30,
   "metadata": {},
   "outputs": [],
   "source": [
    "ratings_pivot = rating_popular_movies.pivot(index='movieId', columns='userId',values='rating').fillna(0)\n",
    "ratings_pivot_sparse = csr_matrix(ratings_pivot.values)"
   ]
  },
  {
   "cell_type": "markdown",
   "metadata": {},
   "source": [
    "## Caculate the cosine similarity between rating vectors"
   ]
  },
  {
   "cell_type": "code",
   "execution_count": 31,
   "metadata": {},
   "outputs": [
    {
     "data": {
      "text/plain": [
       "NearestNeighbors(algorithm='brute', leaf_size=30, metric='cosine',\n",
       "                 metric_params=None, n_jobs=None, n_neighbors=5, p=2,\n",
       "                 radius=1.0)"
      ]
     },
     "execution_count": 31,
     "metadata": {},
     "output_type": "execute_result"
    }
   ],
   "source": [
    "model_nn_binary = NearestNeighbors(metric='cosine', algorithm='brute')\n",
    "model_nn_binary.fit(ratings_pivot_sparse)"
   ]
  },
  {
   "cell_type": "code",
   "execution_count": 32,
   "metadata": {},
   "outputs": [
    {
     "name": "stdout",
     "output_type": "stream",
     "text": [
      "Current movie: Dr. T and the Women (2000)\n",
      "Recommand movie1: Nurse Betty (2000), distance is:0.7345368387187592\n",
      "Recommand movie2: Bounce (2000), distance is:0.7551314017334508\n",
      "Recommand movie3: Contender, The (2000), distance is:0.7609314227552183\n",
      "Recommand movie4: State and Main (2000), distance is:0.7852909794846505\n",
      "Recommand movie5: Wonder Boys (2000), distance is:0.7940448803908337\n",
      "Recommand movie6: You Can Count on Me (2000), distance is:0.795414443395799\n",
      "Recommand movie7: Legend of Bagger Vance, The (2000), distance is:0.8050870048548868\n",
      "Recommand movie8: Keeping the Faith (2000), distance is:0.8076106764831801\n",
      "Recommand movie9: What Women Want (2000), distance is:0.8078915941182924\n",
      "Recommand movie10: Small Time Crooks (2000), distance is:0.8094581133132515\n"
     ]
    }
   ],
   "source": [
    "query_index=np.random.choice(ratings_pivot.shape[0])\n",
    "distances, indices = model_nn_binary.kneighbors(ratings_pivot.iloc[query_index, :].values.reshape(1, -1), n_neighbors = 11)\n",
    "\n",
    "for i in range(0, len(distances.flatten())):\n",
    "    movieId=ratings_pivot.index[query_index]\n",
    "    likelymovieId=ratings_pivot.index[indices.flatten()[i]]\n",
    "    if i == 0:\n",
    "        print('Current movie:',movies[movies.movieId==movieId]['title'].values[0])\n",
    "    else:\n",
    "        print('Recommand movie{0}: {1}, distance is:{2}'.format(i, movies[movies.movieId==likelymovieId]['title'].values[0], \n",
    "                                                    distances.flatten()[i]))"
   ]
  },
  {
   "cell_type": "code",
   "execution_count": 33,
   "metadata": {},
   "outputs": [
    {
     "name": "stdout",
     "output_type": "stream",
     "text": [
      "Current movie: City of Lost Children, The (Cité des enfants perdus, La) (1995)\n",
      "Recommand movie1: Delicatessen (1991), distance is:0.5609612915294158\n",
      "Recommand movie2: Brazil (1985), distance is:0.6153414366133902\n",
      "Recommand movie3: Blade Runner (1982), distance is:0.661584742255307\n",
      "Recommand movie4: Dark City (1998), distance is:0.6697961262326608\n",
      "Recommand movie5: Twelve Monkeys (a.k.a. 12 Monkeys) (1995), distance is:0.6713548084356827\n",
      "Recommand movie6: Clockwork Orange, A (1971), distance is:0.6762167519110898\n",
      "Recommand movie7: Trainspotting (1996), distance is:0.6864511942296707\n",
      "Recommand movie8: Pi (1998), distance is:0.6898976955380305\n",
      "Recommand movie9: Ghost in the Shell (Kôkaku kidôtai) (1995), distance is:0.7006300194646904\n",
      "Recommand movie10: 2001: A Space Odyssey (1968), distance is:0.703187155348789\n"
     ]
    }
   ],
   "source": [
    "movieId=29\n",
    "distances, indices = model_nn_binary.kneighbors(ratings_pivot.query('movieId == 29').values, n_neighbors = 11)\n",
    "\n",
    "for i in range(0, len(distances.flatten())):\n",
    "    likelymovieId=ratings_pivot.index[indices.flatten()[i]]\n",
    "    if i == 0:\n",
    "        print('Current movie:',movies[movies.movieId==movieId]['title'].values[0])\n",
    "    else:\n",
    "        print('Recommand movie{0}: {1}, distance is:{2}'.format(i, movies[movies.movieId==likelymovieId]['title'].values[0], \n",
    "                                                    distances.flatten()[i]))"
   ]
  },
  {
   "cell_type": "code",
   "execution_count": null,
   "metadata": {
    "collapsed": true
   },
   "outputs": [],
   "source": []
  }
 ],
 "metadata": {
  "kernelspec": {
   "display_name": "Python 3",
   "language": "python",
   "name": "python3"
  },
  "language_info": {
   "codemirror_mode": {
    "name": "ipython",
    "version": 3
   },
   "file_extension": ".py",
   "mimetype": "text/x-python",
   "name": "python",
   "nbconvert_exporter": "python",
   "pygments_lexer": "ipython3",
   "version": "3.7.1"
  }
 },
 "nbformat": 4,
 "nbformat_minor": 2
}
